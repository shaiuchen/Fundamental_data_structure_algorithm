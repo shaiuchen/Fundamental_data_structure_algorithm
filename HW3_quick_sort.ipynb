{
 "cells": [
  {
   "cell_type": "code",
   "execution_count": 1,
   "metadata": {},
   "outputs": [],
   "source": [
    "def quick_sort(array, start, end):\n",
    "    if start >= end:\n",
    "        return\n",
    "\n",
    "    pivot_index = start \n",
    "    pivot = array[pivot_index]\n",
    "    left = start\n",
    "    right = end\n",
    "\n",
    "    while left != right:\n",
    "        # 從右往左找第一個小於 pivot 的值\n",
    "        while array[right] >= pivot and left < right:\n",
    "            right -= 1\n",
    "\n",
    "        # 從左往右找第一個大於 pivot 的值\n",
    "        while array[left] <= pivot and left < right:\n",
    "            left += 1\n",
    "\n",
    "        # 交換 left 和 right\n",
    "        if left < right:\n",
    "            array[left], array[right] = array[right], array[left]\n",
    "\n",
    "    # 將 pivot 與 array[right] 交換\n",
    "    array[start], array[right] = array[right], array[start]\n",
    "\n",
    "    # 對左右兩邊遞迴排序\n",
    "    quick_sort(array, start, right - 1)\n",
    "    quick_sort(array, right + 1, end)"
   ]
  },
  {
   "cell_type": "code",
   "execution_count": 3,
   "id": "e8cda859",
   "metadata": {},
   "outputs": [
    {
     "name": "stdout",
     "output_type": "stream",
     "text": [
      "[3, 8, 13, 25, 33, 41, 54, 67, 84, 119]\n"
     ]
    }
   ],
   "source": [
    "# 測試\n",
    "arr = [33, 67, 8, 13, 54, 119, 3, 84, 25, 41]\n",
    "quick_sort(arr, 0, len(arr) - 1)\n",
    "print(arr)"
   ]
  }
 ],
 "metadata": {
  "kernelspec": {
   "display_name": "pycourse",
   "language": "python",
   "name": "python3"
  },
  "language_info": {
   "codemirror_mode": {
    "name": "ipython",
    "version": 3
   },
   "file_extension": ".py",
   "mimetype": "text/x-python",
   "name": "python",
   "nbconvert_exporter": "python",
   "pygments_lexer": "ipython3",
   "version": "3.8.18"
  }
 },
 "nbformat": 4,
 "nbformat_minor": 5
}
