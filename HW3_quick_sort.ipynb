{
 "cells": [
  {
   "cell_type": "code",
   "execution_count": 4,
   "metadata": {},
   "outputs": [],
   "source": [
    "def quick_sort(array, start, end):\n",
    "    if start >= end:\n",
    "        return\n",
    "\n",
    "    pivot_index = start \n",
    "    pivot = array[pivot_index]\n",
    "    left = start\n",
    "    right = end\n",
    "    print(f\"QuickSort called: start={start}, end={end}, pivot={pivot}\")\n",
    "    print(f\"Initial array: {array[start:end+1]}\")\n",
    "\n",
    "    while left != right:\n",
    "        # 從右往左找第一個小於 pivot 的值\n",
    "        while array[right] >= pivot and left < right:\n",
    "            right -= 1\n",
    "\n",
    "        # 從左往右找第一個大於 pivot 的值\n",
    "        while array[left] <= pivot and left < right:\n",
    "            left += 1\n",
    "\n",
    "        # 交換 left 和 right\n",
    "        if left < right:\n",
    "            print(f\"Swapping {array[left]} and {array[right]}\")\n",
    "            array[left], array[right] = array[right], array[left]\n",
    "            print(f\"Array now: {array[start:end+1]}\")\n",
    "\n",
    "    # 將 pivot 與 array[right] 交換\n",
    "    array[start], array[right] = array[right], array[start]\n",
    "\n",
    "    # 對左右兩邊遞迴排序\n",
    "    quick_sort(array, start, right - 1)\n",
    "    quick_sort(array, right + 1, end)"
   ]
  },
  {
   "cell_type": "code",
   "execution_count": 5,
   "id": "f24a3216",
   "metadata": {},
   "outputs": [
    {
     "name": "stdout",
     "output_type": "stream",
     "text": [
      "QuickSort called: start=0, end=9, pivot=33\n",
      "Initial array: [33, 67, 8, 13, 54, 119, 3, 84, 25, 41]\n",
      "Swapping 67 and 25\n",
      "Array now: [33, 25, 8, 13, 54, 119, 3, 84, 67, 41]\n",
      "Swapping 54 and 3\n",
      "Array now: [33, 25, 8, 13, 3, 119, 54, 84, 67, 41]\n",
      "QuickSort called: start=0, end=3, pivot=3\n",
      "Initial array: [3, 25, 8, 13]\n",
      "QuickSort called: start=1, end=3, pivot=25\n",
      "Initial array: [25, 8, 13]\n",
      "QuickSort called: start=1, end=2, pivot=13\n",
      "Initial array: [13, 8]\n",
      "QuickSort called: start=5, end=9, pivot=119\n",
      "Initial array: [119, 54, 84, 67, 41]\n",
      "QuickSort called: start=5, end=8, pivot=41\n",
      "Initial array: [41, 54, 84, 67]\n",
      "QuickSort called: start=6, end=8, pivot=54\n",
      "Initial array: [54, 84, 67]\n",
      "QuickSort called: start=7, end=8, pivot=84\n",
      "Initial array: [84, 67]\n",
      "[3, 8, 13, 25, 33, 41, 54, 67, 84, 119]\n"
     ]
    }
   ],
   "source": [
    "# 測試(一)\n",
    "arr = [33, 67, 8, 13, 54, 119, 3, 84, 25, 41]\n",
    "quick_sort(arr, 0, len(arr) - 1)\n",
    "print(arr)"
   ]
  },
  {
   "cell_type": "code",
   "execution_count": 6,
   "id": "e8cda859",
   "metadata": {},
   "outputs": [
    {
     "name": "stdout",
     "output_type": "stream",
     "text": [
      "QuickSort called: start=0, end=9, pivot=33\n",
      "Initial array: [33, 67, 8, 13, 54, 119, 3, 84, 25, 41]\n",
      "Swapping 67 and 25\n",
      "Array now: [33, 25, 8, 13, 54, 119, 3, 84, 67, 41]\n",
      "Swapping 54 and 3\n",
      "Array now: [33, 25, 8, 13, 3, 119, 54, 84, 67, 41]\n",
      "QuickSort called: start=0, end=3, pivot=3\n",
      "Initial array: [3, 25, 8, 13]\n",
      "QuickSort called: start=1, end=3, pivot=25\n",
      "Initial array: [25, 8, 13]\n",
      "QuickSort called: start=1, end=2, pivot=13\n",
      "Initial array: [13, 8]\n",
      "QuickSort called: start=5, end=9, pivot=119\n",
      "Initial array: [119, 54, 84, 67, 41]\n",
      "QuickSort called: start=5, end=8, pivot=41\n",
      "Initial array: [41, 54, 84, 67]\n",
      "QuickSort called: start=6, end=8, pivot=54\n",
      "Initial array: [54, 84, 67]\n",
      "QuickSort called: start=7, end=8, pivot=84\n",
      "Initial array: [84, 67]\n",
      "[3, 8, 13, 25, 33, 41, 54, 67, 84, 119]\n"
     ]
    }
   ],
   "source": [
    "# 測試(二)\n",
    "arr = [33, 67, 8, 13, 54, 119, 3, 84, 25, 41]\n",
    "quick_sort(arr, 0, len(arr) - 1)\n",
    "print(arr)"
   ]
  }
 ],
 "metadata": {
  "kernelspec": {
   "display_name": "pycourse",
   "language": "python",
   "name": "python3"
  },
  "language_info": {
   "codemirror_mode": {
    "name": "ipython",
    "version": 3
   },
   "file_extension": ".py",
   "mimetype": "text/x-python",
   "name": "python",
   "nbconvert_exporter": "python",
   "pygments_lexer": "ipython3",
   "version": "3.8.18"
  }
 },
 "nbformat": 4,
 "nbformat_minor": 5
}
