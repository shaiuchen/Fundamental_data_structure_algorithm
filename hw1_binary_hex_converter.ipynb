{
 "cells": [
  {
   "cell_type": "code",
   "execution_count": 4,
   "metadata": {},
   "outputs": [
    {
     "name": "stdout",
     "output_type": "stream",
     "text": [
      "二進位:  0000  1010\n",
      "十六進位:  0A\n"
     ]
    }
   ],
   "source": [
    "def decimal_to_binary(decimal):\n",
    "    bits = [0] * 8  # 創建 8 個變數來存放二進位數字\n",
    "    for i in range(7, -1, -1):  # 從最高位開始計算\n",
    "        if decimal >= 2**i:\n",
    "            bits[7 - i] = 1\n",
    "            decimal -= 2**i\n",
    "    return bits\n",
    "\n",
    "def binary_to_hex(binary):\n",
    "    hex_map = {0: '0', 1: '1', 2: '2', 3: '3', 4: '4', 5: '5', 6: '6', 7: '7',\n",
    "               8: '8', 9: '9', 10: 'A', 11: 'B', 12: 'C', 13: 'D', 14: 'E', 15: 'F'}\n",
    "    left_part = binary[:4]  # 取前 4 個 bit\n",
    "    right_part = binary[4:]  # 取後 4 個 bit\n",
    "    \n",
    "    left_value = sum(left_part[i] * (2 ** (3 - i)) for i in range(4))\n",
    "    right_value = sum(right_part[i] * (2 ** (3 - i)) for i in range(4))\n",
    "    \n",
    "    return hex_map[left_value] + hex_map[right_value]\n",
    "\n",
    "def main():\n",
    "    decimal = int(input(\"請輸入0-255的十進位數字: \"))\n",
    "    if decimal < 0 or decimal > 255:\n",
    "        print(\"輸入數字超出範圍！\")\n",
    "        return\n",
    "    \n",
    "    binary = decimal_to_binary(decimal)\n",
    "    hex_value = binary_to_hex(binary)\n",
    "    \n",
    "    print(\"二進位: \", \"\".join(map(str, binary[:4])), \"\", \"\".join(map(str, binary[4:])))\n",
    "    print(\"十六進位: \", hex_value)\n",
    "\n",
    "if __name__ == \"__main__\":\n",
    "    main()"
   ]
  }
 ],
 "metadata": {
  "kernelspec": {
   "display_name": "pycourse",
   "language": "python",
   "name": "python3"
  },
  "language_info": {
   "codemirror_mode": {
    "name": "ipython",
    "version": 3
   },
   "file_extension": ".py",
   "mimetype": "text/x-python",
   "name": "python",
   "nbconvert_exporter": "python",
   "pygments_lexer": "ipython3",
   "version": "3.8.18"
  }
 },
 "nbformat": 4,
 "nbformat_minor": 2
}
